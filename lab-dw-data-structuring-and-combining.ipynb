{
 "cells": [
  {
   "cell_type": "markdown",
   "id": "25d7736c-ba17-4aff-b6bb-66eba20fbf4e",
   "metadata": {
    "id": "25d7736c-ba17-4aff-b6bb-66eba20fbf4e"
   },
   "source": [
    "# Lab | Data Structuring and Combining Data"
   ]
  },
  {
   "cell_type": "markdown",
   "id": "a2cdfc70-44c8-478c-81e7-2bc43fdf4986",
   "metadata": {
    "id": "a2cdfc70-44c8-478c-81e7-2bc43fdf4986"
   },
   "source": [
    "## Challenge 1: Combining & Cleaning Data\n",
    "\n",
    "In this challenge, we will be working with the customer data from an insurance company, as we did in the two previous labs. The data can be found here:\n",
    "- https://raw.githubusercontent.com/data-bootcamp-v4/data/main/file1.csv\n",
    "\n",
    "But this time, we got new data, which can be found in the following 2 CSV files located at the links below.\n",
    "\n",
    "- https://raw.githubusercontent.com/data-bootcamp-v4/data/main/file2.csv\n",
    "- https://raw.githubusercontent.com/data-bootcamp-v4/data/main/file3.csv\n",
    "\n",
    "Note that you'll need to clean and format the new data.\n",
    "\n",
    "Observation:\n",
    "- One option is to first combine the three datasets and then apply the cleaning function to the new combined dataset\n",
    "- Another option would be to read the clean file you saved in the previous lab, and just clean the two new files and concatenate the three clean datasets"
   ]
  },
  {
   "cell_type": "code",
   "execution_count": 8,
   "id": "492d06e3-92c7-4105-ac72-536db98d3244",
   "metadata": {
    "id": "492d06e3-92c7-4105-ac72-536db98d3244"
   },
   "outputs": [],
   "source": [
    "# Your code goes here\n",
    "\n",
    "#we choose option one, combine the 3 data sets and cleaning them\n",
    "\n",
    "import pandas as pd\n",
    "\n",
    "# Load the three datasets\n",
    "file1 = pd.read_csv(\"https://raw.githubusercontent.com/data-bootcamp-v4/data/main/file1.csv\")\n",
    "file2 = pd.read_csv(\"https://raw.githubusercontent.com/data-bootcamp-v4/data/main/file2.csv\")\n",
    "file3 = pd.read_csv(\"https://raw.githubusercontent.com/data-bootcamp-v4/data/main/file3.csv\")\n"
   ]
  },
  {
   "cell_type": "code",
   "execution_count": 13,
   "id": "79c7989b",
   "metadata": {},
   "outputs": [
    {
     "name": "stdout",
     "output_type": "stream",
     "text": [
      "Index(['customer', 'st', 'gender', 'education', 'customer lifetime value',\n",
      "       'income', 'monthly premium auto', 'number of open complaints',\n",
      "       'policy type', 'vehicle class', 'total claim amount'],\n",
      "      dtype='object')\n",
      "Index(['customer', 'st', 'gender', 'education', 'customer lifetime value',\n",
      "       'income', 'monthly premium auto', 'number of open complaints',\n",
      "       'total claim amount', 'policy type', 'vehicle class'],\n",
      "      dtype='object')\n",
      "Index(['customer', 'state', 'customer lifetime value', 'education', 'gender',\n",
      "       'income', 'monthly premium auto', 'number of open complaints',\n",
      "       'policy type', 'total claim amount', 'vehicle class'],\n",
      "      dtype='object')\n"
     ]
    }
   ],
   "source": [
    "# Inspect the columns in each dataset\n",
    "print(file1.columns)\n",
    "print(file2.columns)\n",
    "print(file3.columns)"
   ]
  },
  {
   "cell_type": "code",
   "execution_count": 10,
   "id": "7a4c7552",
   "metadata": {},
   "outputs": [],
   "source": [
    "# Standardize column names (if needed, e.g., stripping spaces or converting to lowercase)\n",
    "file1.columns = file1.columns.str.strip().str.lower()\n",
    "file2.columns = file2.columns.str.strip().str.lower()\n",
    "file3.columns = file3.columns.str.strip().str.lower()"
   ]
  },
  {
   "cell_type": "code",
   "execution_count": 11,
   "id": "a8e4e2cb",
   "metadata": {},
   "outputs": [
    {
     "name": "stdout",
     "output_type": "stream",
     "text": [
      "Index(['customer', 'st', 'gender', 'education', 'customer lifetime value',\n",
      "       'income', 'monthly premium auto', 'number of open complaints',\n",
      "       'policy type', 'vehicle class', 'total claim amount', 'state'],\n",
      "      dtype='object')\n"
     ]
    }
   ],
   "source": [
    "# Combine the datasets\n",
    "combined_data = pd.concat([file1, file2, file3], ignore_index=True)\n",
    "print(combined_data.columns)  # Check combined columns"
   ]
  },
  {
   "cell_type": "code",
   "execution_count": 14,
   "id": "6473742e",
   "metadata": {},
   "outputs": [
    {
     "name": "stdout",
     "output_type": "stream",
     "text": [
      "<class 'pandas.core.frame.DataFrame'>\n",
      "RangeIndex: 12074 entries, 0 to 12073\n",
      "Data columns (total 10 columns):\n",
      " #   Column                     Non-Null Count  Dtype  \n",
      "---  ------                     --------------  -----  \n",
      " 0   gender                     12074 non-null  object \n",
      " 1   education                  12074 non-null  object \n",
      " 2   customer lifetime value    12074 non-null  int64  \n",
      " 3   income                     12074 non-null  int64  \n",
      " 4   monthly premium auto       12074 non-null  int64  \n",
      " 5   number of open complaints  12074 non-null  int64  \n",
      " 6   policy type                12074 non-null  object \n",
      " 7   vehicle class              12074 non-null  object \n",
      " 8   total claim amount         12074 non-null  float64\n",
      " 9   state                      12074 non-null  object \n",
      "dtypes: float64(1), int64(4), object(5)\n",
      "memory usage: 943.4+ KB\n",
      "None\n",
      "    gender             education  customer lifetime value  income  \\\n",
      "0  Unknown                Master                        0       0   \n",
      "1        F              Bachelor                   697953       0   \n",
      "2        F              Bachelor                  1288743   48767   \n",
      "3        M              Bachelor                   764586       0   \n",
      "4        M  High School or Below                   536307   36357   \n",
      "\n",
      "   monthly premium auto  number of open complaints     policy type  \\\n",
      "0                  1000                          1   Personal Auto   \n",
      "1                    94                          1   Personal Auto   \n",
      "2                   108                          1   Personal Auto   \n",
      "3                   106                          1  Corporate Auto   \n",
      "4                    68                          1   Personal Auto   \n",
      "\n",
      "   vehicle class  total claim amount       state  \n",
      "0  Four-Door Car            2.704934  Washington  \n",
      "1  Four-Door Car         1131.464935     Arizona  \n",
      "2   Two-Door Car          566.472247      Nevada  \n",
      "3            SUV          529.881344  California  \n",
      "4  Four-Door Car           17.269323  Washington  \n"
     ]
    }
   ],
   "source": [
    "# Function to clean the data\n",
    "def clean_data(df):\n",
    "    # Step 1: Drop irrelevant columns\n",
    "    if 'customer' in df.columns:\n",
    "        df = df.drop(columns=['customer'])\n",
    "\n",
    "    # Step 2: Merge 'st' and 'state' into one column\n",
    "    if 'st' in df.columns:\n",
    "        df['state'] = df['state'].combine_first(df['st'])\n",
    "        df = df.drop(columns=['st'])\n",
    "    \n",
    "    # Step 3: Clean 'customer lifetime value' column\n",
    "    if 'customer lifetime value' in df.columns:\n",
    "        df['customer lifetime value'] = df['customer lifetime value'].replace({'%': ''}, regex=True)  # Remove %\n",
    "        df['customer lifetime value'] = pd.to_numeric(df['customer lifetime value'], errors='coerce').fillna(0).astype(int)\n",
    "    \n",
    "    # Step 4: Fill missing values for 'income', 'monthly_premium_auto', and 'total_claim_amount'\n",
    "    if 'income' in df.columns:\n",
    "        df['income'] = df['income'].fillna(df['income'].median()).astype(int)\n",
    "\n",
    "    if 'monthly premium auto' in df.columns:\n",
    "        df['monthly premium auto'] = df['monthly premium auto'].fillna(df['monthly premium auto'].median()).astype(int)\n",
    "\n",
    "    if 'total claim amount' in df.columns:\n",
    "        df['total claim amount'] = df['total claim amount'].fillna(df['total claim amount'].median()).astype(float)\n",
    "    \n",
    "    # Step 5: Clean 'number of open complaints'\n",
    "    if 'number of open complaints' in df.columns:\n",
    "        df['number of open complaints'] = df['number of open complaints'].replace({'/.*': ''}, regex=True)\n",
    "        df['number of open complaints'] = pd.to_numeric(df['number of open complaints'], errors='coerce').fillna(0).astype(int)\n",
    "\n",
    "    # Step 6: Fill missing categorical values with 'Unknown'\n",
    "    categorical_columns = ['state', 'gender', 'education', 'policy type', 'vehicle class']\n",
    "    for col in categorical_columns:\n",
    "        if col in df.columns:\n",
    "            df[col] = df[col].fillna('Unknown')\n",
    "\n",
    "    return df\n",
    "\n",
    "# Apply the cleaning function to the combined data\n",
    "cleaned_data = clean_data(combined_data)\n",
    "\n",
    "# Check the result after cleaning\n",
    "print(cleaned_data.info())\n",
    "print(cleaned_data.head())\n",
    "\n"
   ]
  },
  {
   "cell_type": "markdown",
   "id": "31b8a9e7-7db9-4604-991b-ef6771603e57",
   "metadata": {
    "id": "31b8a9e7-7db9-4604-991b-ef6771603e57"
   },
   "source": [
    "# Challenge 2: Structuring Data"
   ]
  },
  {
   "cell_type": "markdown",
   "id": "a877fd6d-7a0c-46d2-9657-f25036e4ca4b",
   "metadata": {
    "id": "a877fd6d-7a0c-46d2-9657-f25036e4ca4b"
   },
   "source": [
    "In this challenge, we will continue to work with customer data from an insurance company, but we will use a dataset with more columns, called marketing_customer_analysis.csv, which can be found at the following link:\n",
    "\n",
    "https://raw.githubusercontent.com/data-bootcamp-v4/data/main/marketing_customer_analysis_clean.csv\n",
    "\n",
    "This dataset contains information such as customer demographics, policy details, vehicle information, and the customer's response to the last marketing campaign. Our goal is to explore and analyze this data by performing data cleaning, formatting, and structuring."
   ]
  },
  {
   "cell_type": "code",
   "execution_count": 15,
   "id": "aa10d9b0-1c27-4d3f-a8e4-db6ab73bfd26",
   "metadata": {
    "id": "aa10d9b0-1c27-4d3f-a8e4-db6ab73bfd26"
   },
   "outputs": [
    {
     "name": "stdout",
     "output_type": "stream",
     "text": [
      "<class 'pandas.core.frame.DataFrame'>\n",
      "RangeIndex: 10910 entries, 0 to 10909\n",
      "Data columns (total 27 columns):\n",
      " #   Column                         Non-Null Count  Dtype  \n",
      "---  ------                         --------------  -----  \n",
      " 0   unnamed:_0                     10910 non-null  int64  \n",
      " 1   customer                       10910 non-null  object \n",
      " 2   state                          10910 non-null  object \n",
      " 3   customer_lifetime_value        10910 non-null  float64\n",
      " 4   response                       10910 non-null  object \n",
      " 5   coverage                       10910 non-null  object \n",
      " 6   education                      10910 non-null  object \n",
      " 7   effective_to_date              10910 non-null  object \n",
      " 8   employmentstatus               10910 non-null  object \n",
      " 9   gender                         10910 non-null  object \n",
      " 10  income                         10910 non-null  int64  \n",
      " 11  location_code                  10910 non-null  object \n",
      " 12  marital_status                 10910 non-null  object \n",
      " 13  monthly_premium_auto           10910 non-null  int64  \n",
      " 14  months_since_last_claim        10910 non-null  float64\n",
      " 15  months_since_policy_inception  10910 non-null  int64  \n",
      " 16  number_of_open_complaints      10910 non-null  float64\n",
      " 17  number_of_policies             10910 non-null  int64  \n",
      " 18  policy_type                    10910 non-null  object \n",
      " 19  policy                         10910 non-null  object \n",
      " 20  renew_offer_type               10910 non-null  object \n",
      " 21  sales_channel                  10910 non-null  object \n",
      " 22  total_claim_amount             10910 non-null  float64\n",
      " 23  vehicle_class                  10910 non-null  object \n",
      " 24  vehicle_size                   10910 non-null  object \n",
      " 25  vehicle_type                   10910 non-null  object \n",
      " 26  month                          10910 non-null  int64  \n",
      "dtypes: float64(4), int64(6), object(17)\n",
      "memory usage: 2.2+ MB\n",
      "None\n",
      "   unnamed:_0 customer       state  customer_lifetime_value response  \\\n",
      "0           0  DK49336     Arizona              4809.216960       No   \n",
      "1           1  KX64629  California              2228.525238       No   \n",
      "2           2  LZ68649  Washington             14947.917300       No   \n",
      "3           3  XL78013      Oregon             22332.439460      Yes   \n",
      "4           4  QA50777      Oregon              9025.067525       No   \n",
      "\n",
      "   coverage education effective_to_date employmentstatus gender  ...  \\\n",
      "0     Basic   College        2011-02-18         Employed      M  ...   \n",
      "1     Basic   College        2011-01-18       Unemployed      F  ...   \n",
      "2     Basic  Bachelor        2011-02-10         Employed      M  ...   \n",
      "3  Extended   College        2011-01-11         Employed      M  ...   \n",
      "4   Premium  Bachelor        2011-01-17    Medical Leave      F  ...   \n",
      "\n",
      "   number_of_policies     policy_type        policy  renew_offer_type  \\\n",
      "0                   9  Corporate Auto  Corporate L3            Offer3   \n",
      "1                   1   Personal Auto   Personal L3            Offer4   \n",
      "2                   2   Personal Auto   Personal L3            Offer3   \n",
      "3                   2  Corporate Auto  Corporate L3            Offer2   \n",
      "4                   7   Personal Auto   Personal L2            Offer1   \n",
      "\n",
      "   sales_channel  total_claim_amount  vehicle_class  vehicle_size  \\\n",
      "0          Agent          292.800000  Four-Door Car       Medsize   \n",
      "1    Call Center          744.924331  Four-Door Car       Medsize   \n",
      "2    Call Center          480.000000            SUV       Medsize   \n",
      "3         Branch          484.013411  Four-Door Car       Medsize   \n",
      "4         Branch          707.925645  Four-Door Car       Medsize   \n",
      "\n",
      "  vehicle_type month  \n",
      "0            A     2  \n",
      "1            A     1  \n",
      "2            A     2  \n",
      "3            A     1  \n",
      "4            A     1  \n",
      "\n",
      "[5 rows x 27 columns]\n"
     ]
    }
   ],
   "source": [
    "# Your code goes here\n",
    "\n",
    "# Load the dataset\n",
    "url = 'https://raw.githubusercontent.com/data-bootcamp-v4/data/main/marketing_customer_analysis_clean.csv'\n",
    "df = pd.read_csv(url)\n",
    "\n",
    "# Display basic information about the dataset\n",
    "print(df.info())\n",
    "\n",
    "# Show a preview of the first few rows\n",
    "print(df.head())\n"
   ]
  },
  {
   "cell_type": "code",
   "execution_count": 16,
   "id": "9d6ac0a7",
   "metadata": {},
   "outputs": [
    {
     "name": "stdout",
     "output_type": "stream",
     "text": [
      "customer                         0\n",
      "state                            0\n",
      "customer_lifetime_value          0\n",
      "response                         0\n",
      "coverage                         0\n",
      "education                        0\n",
      "effective_to_date                0\n",
      "employmentstatus                 0\n",
      "gender                           0\n",
      "income                           0\n",
      "location_code                    0\n",
      "marital_status                   0\n",
      "monthly_premium_auto             0\n",
      "months_since_last_claim          0\n",
      "months_since_policy_inception    0\n",
      "number_of_open_complaints        0\n",
      "number_of_policies               0\n",
      "policy_type                      0\n",
      "policy                           0\n",
      "renew_offer_type                 0\n",
      "sales_channel                    0\n",
      "total_claim_amount               0\n",
      "vehicle_class                    0\n",
      "vehicle_size                     0\n",
      "vehicle_type                     0\n",
      "month                            0\n",
      "dtype: int64\n",
      "<class 'pandas.core.frame.DataFrame'>\n",
      "RangeIndex: 10910 entries, 0 to 10909\n",
      "Data columns (total 26 columns):\n",
      " #   Column                         Non-Null Count  Dtype         \n",
      "---  ------                         --------------  -----         \n",
      " 0   customer                       10910 non-null  object        \n",
      " 1   state                          10910 non-null  object        \n",
      " 2   customer_lifetime_value        10910 non-null  float64       \n",
      " 3   response                       10910 non-null  object        \n",
      " 4   coverage                       10910 non-null  object        \n",
      " 5   education                      10910 non-null  object        \n",
      " 6   effective_to_date              10910 non-null  datetime64[ns]\n",
      " 7   employmentstatus               10910 non-null  object        \n",
      " 8   gender                         10910 non-null  object        \n",
      " 9   income                         10910 non-null  int64         \n",
      " 10  location_code                  10910 non-null  object        \n",
      " 11  marital_status                 10910 non-null  object        \n",
      " 12  monthly_premium_auto           10910 non-null  int64         \n",
      " 13  months_since_last_claim        10910 non-null  float64       \n",
      " 14  months_since_policy_inception  10910 non-null  int64         \n",
      " 15  number_of_open_complaints      10910 non-null  float64       \n",
      " 16  number_of_policies             10910 non-null  int64         \n",
      " 17  policy_type                    10910 non-null  object        \n",
      " 18  policy                         10910 non-null  object        \n",
      " 19  renew_offer_type               10910 non-null  object        \n",
      " 20  sales_channel                  10910 non-null  object        \n",
      " 21  total_claim_amount             10910 non-null  float64       \n",
      " 22  vehicle_class                  10910 non-null  object        \n",
      " 23  vehicle_size                   10910 non-null  object        \n",
      " 24  vehicle_type                   10910 non-null  object        \n",
      " 25  month                          10910 non-null  int64         \n",
      "dtypes: datetime64[ns](1), float64(4), int64(5), object(16)\n",
      "memory usage: 2.2+ MB\n",
      "None\n",
      "  customer       state  customer_lifetime_value response  coverage education  \\\n",
      "0  DK49336     Arizona              4809.216960       No     Basic   College   \n",
      "1  KX64629  California              2228.525238       No     Basic   College   \n",
      "2  LZ68649  Washington             14947.917300       No     Basic  Bachelor   \n",
      "3  XL78013      Oregon             22332.439460      Yes  Extended   College   \n",
      "4  QA50777      Oregon              9025.067525       No   Premium  Bachelor   \n",
      "\n",
      "  effective_to_date employmentstatus gender  income  ... number_of_policies  \\\n",
      "0        2011-02-18         Employed      M   48029  ...                  9   \n",
      "1        2011-01-18       Unemployed      F       0  ...                  1   \n",
      "2        2011-02-10         Employed      M   22139  ...                  2   \n",
      "3        2011-01-11         Employed      M   49078  ...                  2   \n",
      "4        2011-01-17    Medical Leave      F   23675  ...                  7   \n",
      "\n",
      "      policy_type        policy  renew_offer_type  sales_channel  \\\n",
      "0  Corporate Auto  Corporate L3            Offer3          Agent   \n",
      "1   Personal Auto   Personal L3            Offer4    Call Center   \n",
      "2   Personal Auto   Personal L3            Offer3    Call Center   \n",
      "3  Corporate Auto  Corporate L3            Offer2         Branch   \n",
      "4   Personal Auto   Personal L2            Offer1         Branch   \n",
      "\n",
      "   total_claim_amount  vehicle_class vehicle_size vehicle_type month  \n",
      "0          292.800000  Four-Door Car      Medsize            A     2  \n",
      "1          744.924331  Four-Door Car      Medsize            A     1  \n",
      "2          480.000000            SUV      Medsize            A     2  \n",
      "3          484.013411  Four-Door Car      Medsize            A     1  \n",
      "4          707.925645  Four-Door Car      Medsize            A     1  \n",
      "\n",
      "[5 rows x 26 columns]\n"
     ]
    }
   ],
   "source": [
    "#cleaning the data\n",
    "\n",
    "# Drop the unnamed column\n",
    "df_clean = df.drop(columns=['unnamed:_0'])\n",
    "\n",
    "# Convert the 'effective_to_date' column to datetime format\n",
    "df_clean['effective_to_date'] = pd.to_datetime(df_clean['effective_to_date'])\n",
    "\n",
    "# Rename columns to standardize the naming\n",
    "df_clean.columns = df_clean.columns.str.lower().str.replace(' ', '_')\n",
    "\n",
    "# Check for missing values\n",
    "print(df_clean.isnull().sum())\n",
    "\n",
    "# Show the cleaned dataframe information and first few rows\n",
    "print(df_clean.info())\n",
    "print(df_clean.head())\n"
   ]
  },
  {
   "cell_type": "markdown",
   "id": "df35fd0d-513e-4e77-867e-429da10a9cc7",
   "metadata": {
    "id": "df35fd0d-513e-4e77-867e-429da10a9cc7"
   },
   "source": [
    "1. You work at the marketing department and you want to know which sales channel brought the most sales in terms of total revenue. Using pivot, create a summary table showing the total revenue for each sales channel (branch, call center, web, and mail).\n",
    "Round the total revenue to 2 decimal points.  Analyze the resulting table to draw insights."
   ]
  },
  {
   "cell_type": "code",
   "execution_count": 35,
   "id": "aa0107e7",
   "metadata": {},
   "outputs": [
    {
     "name": "stdout",
     "output_type": "stream",
     "text": [
      "               total_claim_amount\n",
      "sales_channel                    \n",
      "Agent                  1810226.82\n",
      "Branch                 1301204.00\n",
      "Call Center             926600.82\n",
      "Web                     706600.04\n"
     ]
    }
   ],
   "source": [
    "# Create a pivot table to summarize the total revenue for each sales channel\n",
    "pivot_table_totalrevenue = df_clean.pivot_table(\n",
    "    index='sales_channel',\n",
    "    values='total_claim_amount',\n",
    "    aggfunc='sum'\n",
    ")\n",
    "\n",
    "# Round the total revenue to 2 decimal points\n",
    "pivot_table_totalrevenue = pivot_table_totalrevenue.round(2)\n",
    "\n",
    "# Sort the pivot table by total revenue in descending order\n",
    "pivot_table_totalrevenue = pivot_table_totalrevenue.sort_values(by='total_claim_amount', ascending=False)\n",
    "\n",
    "# Print the pivot table\n",
    "print(pivot_table_totalrevenue)\n"
   ]
  },
  {
   "cell_type": "markdown",
   "id": "640993b2-a291-436c-a34d-a551144f8196",
   "metadata": {
    "id": "640993b2-a291-436c-a34d-a551144f8196"
   },
   "source": [
    "2. Create a pivot table that shows the average customer lifetime value per gender and education level. Analyze the resulting table to draw insights."
   ]
  },
  {
   "cell_type": "code",
   "execution_count": 37,
   "id": "02e1e48c",
   "metadata": {},
   "outputs": [
    {
     "name": "stdout",
     "output_type": "stream",
     "text": [
      "                             customer_lifetime_value\n",
      "gender education                                    \n",
      "F      High School or Below                  8675.22\n",
      "M      Master                                8168.83\n",
      "F      Master                                8157.05\n",
      "M      High School or Below                  8149.69\n",
      "       College                               8052.46\n",
      "F      Bachelor                              7874.27\n",
      "       College                               7748.82\n",
      "M      Bachelor                              7703.60\n",
      "       Doctor                                7415.33\n",
      "F      Doctor                                7328.51\n"
     ]
    }
   ],
   "source": [
    "# Create a pivot table to summarize the average customer lifetime value per gender and education level\n",
    "pivot_table_averagelifetime = df_clean.pivot_table(\n",
    "    index=['gender', 'education'],\n",
    "    values='customer_lifetime_value',\n",
    "    aggfunc='mean'\n",
    ")\n",
    "\n",
    "# Round the average customer lifetime value to 2 decimal points\n",
    "pivot_table_averagelifetime = pivot_table_averagelifetime.round(2)\n",
    "\n",
    "# Sort the pivot table by average customer lifetime value in descending order\n",
    "pivot_table_averagelifetime = pivot_table_averagelifetime.sort_values(by='customer_lifetime_value', ascending=False)\n",
    "\n",
    "# Print the pivot table\n",
    "print(pivot_table_averagelifetime)\n"
   ]
  },
  {
   "cell_type": "markdown",
   "id": "32c7f2e5-3d90-43e5-be33-9781b6069198",
   "metadata": {
    "id": "32c7f2e5-3d90-43e5-be33-9781b6069198"
   },
   "source": [
    "## Bonus\n",
    "\n",
    "You work at the customer service department and you want to know which months had the highest number of complaints by policy type category. Create a summary table showing the number of complaints by policy type and month.\n",
    "Show it in a long format table."
   ]
  },
  {
   "cell_type": "markdown",
   "id": "e3d09a8f-953c-448a-a5f8-2e5a8cca7291",
   "metadata": {
    "id": "e3d09a8f-953c-448a-a5f8-2e5a8cca7291"
   },
   "source": [
    "*In data analysis, a long format table is a way of structuring data in which each observation or measurement is stored in a separate row of the table. The key characteristic of a long format table is that each column represents a single variable, and each row represents a single observation of that variable.*\n",
    "\n",
    "*More information about long and wide format tables here: https://www.statology.org/long-vs-wide-data/*"
   ]
  },
  {
   "cell_type": "code",
   "execution_count": 36,
   "id": "babab0f0",
   "metadata": {},
   "outputs": [
    {
     "data": {
      "text/plain": [
       "Index(['customer', 'state', 'customer_lifetime_value', 'response', 'coverage',\n",
       "       'education', 'effective_to_date', 'employmentstatus', 'gender',\n",
       "       'income', 'location_code', 'marital_status', 'monthly_premium_auto',\n",
       "       'months_since_last_claim', 'months_since_policy_inception',\n",
       "       'number_of_open_complaints', 'number_of_policies', 'policy_type',\n",
       "       'policy', 'renew_offer_type', 'sales_channel', 'total_claim_amount',\n",
       "       'vehicle_class', 'vehicle_size', 'vehicle_type', 'month'],\n",
       "      dtype='object')"
      ]
     },
     "execution_count": 36,
     "metadata": {},
     "output_type": "execute_result"
    }
   ],
   "source": [
    "df_clean.columns"
   ]
  },
  {
   "cell_type": "code",
   "execution_count": 42,
   "id": "adfe6fe9",
   "metadata": {},
   "outputs": [
    {
     "data": {
      "text/html": [
       "<div>\n",
       "<style scoped>\n",
       "    .dataframe tbody tr th:only-of-type {\n",
       "        vertical-align: middle;\n",
       "    }\n",
       "\n",
       "    .dataframe tbody tr th {\n",
       "        vertical-align: top;\n",
       "    }\n",
       "\n",
       "    .dataframe thead th {\n",
       "        text-align: right;\n",
       "    }\n",
       "</style>\n",
       "<table border=\"1\" class=\"dataframe\">\n",
       "  <thead>\n",
       "    <tr style=\"text-align: right;\">\n",
       "      <th></th>\n",
       "      <th>customer</th>\n",
       "      <th>state</th>\n",
       "      <th>customer_lifetime_value</th>\n",
       "      <th>response</th>\n",
       "      <th>coverage</th>\n",
       "      <th>education</th>\n",
       "      <th>effective_to_date</th>\n",
       "      <th>employmentstatus</th>\n",
       "      <th>gender</th>\n",
       "      <th>income</th>\n",
       "      <th>...</th>\n",
       "      <th>number_of_policies</th>\n",
       "      <th>policy_type</th>\n",
       "      <th>policy</th>\n",
       "      <th>renew_offer_type</th>\n",
       "      <th>sales_channel</th>\n",
       "      <th>total_claim_amount</th>\n",
       "      <th>vehicle_class</th>\n",
       "      <th>vehicle_size</th>\n",
       "      <th>vehicle_type</th>\n",
       "      <th>month</th>\n",
       "    </tr>\n",
       "  </thead>\n",
       "  <tbody>\n",
       "    <tr>\n",
       "      <th>0</th>\n",
       "      <td>DK49336</td>\n",
       "      <td>Arizona</td>\n",
       "      <td>4809.216960</td>\n",
       "      <td>No</td>\n",
       "      <td>Basic</td>\n",
       "      <td>College</td>\n",
       "      <td>2011-02-18</td>\n",
       "      <td>Employed</td>\n",
       "      <td>M</td>\n",
       "      <td>48029</td>\n",
       "      <td>...</td>\n",
       "      <td>9</td>\n",
       "      <td>Corporate Auto</td>\n",
       "      <td>Corporate L3</td>\n",
       "      <td>Offer3</td>\n",
       "      <td>Agent</td>\n",
       "      <td>292.800000</td>\n",
       "      <td>Four-Door Car</td>\n",
       "      <td>Medsize</td>\n",
       "      <td>A</td>\n",
       "      <td>2</td>\n",
       "    </tr>\n",
       "    <tr>\n",
       "      <th>1</th>\n",
       "      <td>KX64629</td>\n",
       "      <td>California</td>\n",
       "      <td>2228.525238</td>\n",
       "      <td>No</td>\n",
       "      <td>Basic</td>\n",
       "      <td>College</td>\n",
       "      <td>2011-01-18</td>\n",
       "      <td>Unemployed</td>\n",
       "      <td>F</td>\n",
       "      <td>0</td>\n",
       "      <td>...</td>\n",
       "      <td>1</td>\n",
       "      <td>Personal Auto</td>\n",
       "      <td>Personal L3</td>\n",
       "      <td>Offer4</td>\n",
       "      <td>Call Center</td>\n",
       "      <td>744.924331</td>\n",
       "      <td>Four-Door Car</td>\n",
       "      <td>Medsize</td>\n",
       "      <td>A</td>\n",
       "      <td>1</td>\n",
       "    </tr>\n",
       "    <tr>\n",
       "      <th>2</th>\n",
       "      <td>LZ68649</td>\n",
       "      <td>Washington</td>\n",
       "      <td>14947.917300</td>\n",
       "      <td>No</td>\n",
       "      <td>Basic</td>\n",
       "      <td>Bachelor</td>\n",
       "      <td>2011-02-10</td>\n",
       "      <td>Employed</td>\n",
       "      <td>M</td>\n",
       "      <td>22139</td>\n",
       "      <td>...</td>\n",
       "      <td>2</td>\n",
       "      <td>Personal Auto</td>\n",
       "      <td>Personal L3</td>\n",
       "      <td>Offer3</td>\n",
       "      <td>Call Center</td>\n",
       "      <td>480.000000</td>\n",
       "      <td>SUV</td>\n",
       "      <td>Medsize</td>\n",
       "      <td>A</td>\n",
       "      <td>2</td>\n",
       "    </tr>\n",
       "    <tr>\n",
       "      <th>3</th>\n",
       "      <td>XL78013</td>\n",
       "      <td>Oregon</td>\n",
       "      <td>22332.439460</td>\n",
       "      <td>Yes</td>\n",
       "      <td>Extended</td>\n",
       "      <td>College</td>\n",
       "      <td>2011-01-11</td>\n",
       "      <td>Employed</td>\n",
       "      <td>M</td>\n",
       "      <td>49078</td>\n",
       "      <td>...</td>\n",
       "      <td>2</td>\n",
       "      <td>Corporate Auto</td>\n",
       "      <td>Corporate L3</td>\n",
       "      <td>Offer2</td>\n",
       "      <td>Branch</td>\n",
       "      <td>484.013411</td>\n",
       "      <td>Four-Door Car</td>\n",
       "      <td>Medsize</td>\n",
       "      <td>A</td>\n",
       "      <td>1</td>\n",
       "    </tr>\n",
       "    <tr>\n",
       "      <th>4</th>\n",
       "      <td>QA50777</td>\n",
       "      <td>Oregon</td>\n",
       "      <td>9025.067525</td>\n",
       "      <td>No</td>\n",
       "      <td>Premium</td>\n",
       "      <td>Bachelor</td>\n",
       "      <td>2011-01-17</td>\n",
       "      <td>Medical Leave</td>\n",
       "      <td>F</td>\n",
       "      <td>23675</td>\n",
       "      <td>...</td>\n",
       "      <td>7</td>\n",
       "      <td>Personal Auto</td>\n",
       "      <td>Personal L2</td>\n",
       "      <td>Offer1</td>\n",
       "      <td>Branch</td>\n",
       "      <td>707.925645</td>\n",
       "      <td>Four-Door Car</td>\n",
       "      <td>Medsize</td>\n",
       "      <td>A</td>\n",
       "      <td>1</td>\n",
       "    </tr>\n",
       "  </tbody>\n",
       "</table>\n",
       "<p>5 rows × 26 columns</p>\n",
       "</div>"
      ],
      "text/plain": [
       "  customer       state  customer_lifetime_value response  coverage education  \\\n",
       "0  DK49336     Arizona              4809.216960       No     Basic   College   \n",
       "1  KX64629  California              2228.525238       No     Basic   College   \n",
       "2  LZ68649  Washington             14947.917300       No     Basic  Bachelor   \n",
       "3  XL78013      Oregon             22332.439460      Yes  Extended   College   \n",
       "4  QA50777      Oregon              9025.067525       No   Premium  Bachelor   \n",
       "\n",
       "  effective_to_date employmentstatus gender  income  ... number_of_policies  \\\n",
       "0        2011-02-18         Employed      M   48029  ...                  9   \n",
       "1        2011-01-18       Unemployed      F       0  ...                  1   \n",
       "2        2011-02-10         Employed      M   22139  ...                  2   \n",
       "3        2011-01-11         Employed      M   49078  ...                  2   \n",
       "4        2011-01-17    Medical Leave      F   23675  ...                  7   \n",
       "\n",
       "      policy_type        policy  renew_offer_type  sales_channel  \\\n",
       "0  Corporate Auto  Corporate L3            Offer3          Agent   \n",
       "1   Personal Auto   Personal L3            Offer4    Call Center   \n",
       "2   Personal Auto   Personal L3            Offer3    Call Center   \n",
       "3  Corporate Auto  Corporate L3            Offer2         Branch   \n",
       "4   Personal Auto   Personal L2            Offer1         Branch   \n",
       "\n",
       "   total_claim_amount  vehicle_class vehicle_size vehicle_type month  \n",
       "0          292.800000  Four-Door Car      Medsize            A     2  \n",
       "1          744.924331  Four-Door Car      Medsize            A     1  \n",
       "2          480.000000            SUV      Medsize            A     2  \n",
       "3          484.013411  Four-Door Car      Medsize            A     1  \n",
       "4          707.925645  Four-Door Car      Medsize            A     1  \n",
       "\n",
       "[5 rows x 26 columns]"
      ]
     },
     "execution_count": 42,
     "metadata": {},
     "output_type": "execute_result"
    }
   ],
   "source": [
    "df_clean.head()"
   ]
  },
  {
   "cell_type": "code",
   "execution_count": 43,
   "id": "3a069e0b-b400-470e-904d-d17582191be4",
   "metadata": {
    "id": "3a069e0b-b400-470e-904d-d17582191be4"
   },
   "outputs": [
    {
     "name": "stdout",
     "output_type": "stream",
     "text": [
      "      policy_type  month  complaint_count\n",
      "0  Corporate Auto      1             1252\n",
      "1  Corporate Auto      2             1089\n",
      "2   Personal Auto      1             4329\n",
      "3   Personal Auto      2             3799\n",
      "4    Special Auto      1              237\n",
      "5    Special Auto      2              204\n"
     ]
    }
   ],
   "source": [
    "# Your code goes here\n",
    "\n",
    "# Group by policy type and month, counting the number of complaints\n",
    "complaints_summary = df_clean.groupby(['policy_type', 'month']).size().reset_index(name='complaint_count')\n",
    "\n",
    "# Print the summary table\n",
    "print(complaints_summary)"
   ]
  }
 ],
 "metadata": {
  "colab": {
   "provenance": []
  },
  "kernelspec": {
   "display_name": "Python 3",
   "language": "python",
   "name": "python3"
  },
  "language_info": {
   "codemirror_mode": {
    "name": "ipython",
    "version": 3
   },
   "file_extension": ".py",
   "mimetype": "text/x-python",
   "name": "python",
   "nbconvert_exporter": "python",
   "pygments_lexer": "ipython3",
   "version": "3.12.6"
  }
 },
 "nbformat": 4,
 "nbformat_minor": 5
}
